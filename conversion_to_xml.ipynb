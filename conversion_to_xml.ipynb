{
 "cells": [
  {
   "cell_type": "code",
   "execution_count": 10,
   "metadata": {},
   "outputs": [],
   "source": [
    "import pandas as pd\n",
    "import xml.etree.ElementTree as ET"
   ]
  },
  {
   "cell_type": "code",
   "execution_count": 11,
   "metadata": {},
   "outputs": [],
   "source": [
    "#convert excel file into xml\n",
    "df = pd.read_excel('data\\Skills_Test_-_Data_set_provided_by_Banking_Ops.xlsx', sheet_name = 0)\n",
    "df.to_xml('data/banking_ops.xml')\n"
   ]
  },
  {
   "cell_type": "code",
   "execution_count": 12,
   "metadata": {},
   "outputs": [],
   "source": [
    "#import template xml files\n",
    "template_tree = ET.parse('data/Reporting template copy.xml',parser=None)\n",
    "template_root = template_tree.getroot()\n",
    "#import banking_ops xml file\n",
    "banking_ops_tree = ET.parse('data/banking_ops.xml')\n",
    "banking_ops_root = banking_ops_tree.getroot()"
   ]
  },
  {
   "cell_type": "code",
   "execution_count": 13,
   "metadata": {},
   "outputs": [],
   "source": [
    "#rename banking ops tags and attributes\n",
    "banking_ops_root.tag = 'Data'\n",
    "for item in banking_ops_root:\n",
    "    item.tag = 'Item'\n",
    "    for elem in item:\n",
    "        elem.set(\"prop\", elem.tag)\n",
    "        elem.tag = 'Dim'\n",
    "#Changes index to SEQ\n",
    "banking_ops_root[0][0].attrib = {'prop': 'SEQ'}\n",
    "\n",
    "# ET.dump(banking_ops_tree)"
   ]
  },
  {
   "cell_type": "code",
   "execution_count": 14,
   "metadata": {},
   "outputs": [],
   "source": [
    "#updating and saving changes to avoid error\n",
    "banking_ops_tree.write('data/banking_ops_update.xml', encoding='UTF-8')\n",
    "banking_ops_tree_update = ET.parse('data/banking_ops_update.xml')\n",
    "banking_ops_root_update = banking_ops_tree_update.getroot()"
   ]
  },
  {
   "cell_type": "code",
   "execution_count": 15,
   "metadata": {},
   "outputs": [],
   "source": [
    "#change adminstration date to match oct 2021\n",
    "template_root[1].attrib= {'date':\"2021-10\",'code':\"A71DSP2\"}\n",
    "#remove empty data \n",
    "for child in template_root:\n",
    "    for ele in child:\n",
    "        for sub in ele:\n",
    "            if sub.tag =='Item':\n",
    "                ele.remove(sub)"
   ]
  },
  {
   "cell_type": "code",
   "execution_count": 16,
   "metadata": {},
   "outputs": [],
   "source": [
    "#insert banking_ops_data into template_tree\n",
    "data_element = template_root[1][0]\n",
    "data_element.extend(banking_ops_root_update)"
   ]
  },
  {
   "cell_type": "code",
   "execution_count": 17,
   "metadata": {},
   "outputs": [],
   "source": [
    "#save as a new xml file\n",
    "template_tree.write('ONEGATE_Submission_Oct_2021/A71DSP2.xml', encoding=\"UTF-8\",xml_declaration=True,short_empty_elements=False)\n"
   ]
  }
 ],
 "metadata": {
  "kernelspec": {
   "display_name": "CALM2_env",
   "language": "python",
   "name": "calm2_env"
  },
  "language_info": {
   "codemirror_mode": {
    "name": "ipython",
    "version": 3
   },
   "file_extension": ".py",
   "mimetype": "text/x-python",
   "name": "python",
   "nbconvert_exporter": "python",
   "pygments_lexer": "ipython3",
   "version": "3.10.4"
  },
  "orig_nbformat": 4,
  "vscode": {
   "interpreter": {
    "hash": "8b9d5d83eba767f83b38cfe33e2015b546626f62d3e373785ef1160c5c683cd9"
   }
  }
 },
 "nbformat": 4,
 "nbformat_minor": 2
}
